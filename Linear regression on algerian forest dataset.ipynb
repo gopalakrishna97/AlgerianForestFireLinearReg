{
 "cells": [
  {
   "cell_type": "markdown",
   "id": "c1234b7e",
   "metadata": {},
   "source": [
    "\n",
    "<h1><center>Linear regression on algerian forest fire data </center></h1>"
   ]
  },
  {
   "cell_type": "code",
   "execution_count": 1,
   "id": "eb2390d2",
   "metadata": {},
   "outputs": [],
   "source": [
    "import pandas as pd\n",
    "import numpy as np\n",
    "import seaborn as sns\n",
    "import matplotlib.pyplot as plt\n",
    "%matplotlib inline "
   ]
  },
  {
   "cell_type": "markdown",
   "id": "01127dcf",
   "metadata": {},
   "source": [
    "## Loading the algerian dataset"
   ]
  },
  {
   "cell_type": "code",
   "execution_count": 2,
   "id": "9900156a",
   "metadata": {},
   "outputs": [
    {
     "data": {
      "text/html": [
       "<div>\n",
       "<style scoped>\n",
       "    .dataframe tbody tr th:only-of-type {\n",
       "        vertical-align: middle;\n",
       "    }\n",
       "\n",
       "    .dataframe tbody tr th {\n",
       "        vertical-align: top;\n",
       "    }\n",
       "\n",
       "    .dataframe thead th {\n",
       "        text-align: right;\n",
       "    }\n",
       "</style>\n",
       "<table border=\"1\" class=\"dataframe\">\n",
       "  <thead>\n",
       "    <tr style=\"text-align: right;\">\n",
       "      <th></th>\n",
       "      <th>day</th>\n",
       "      <th>month</th>\n",
       "      <th>year</th>\n",
       "      <th>RH</th>\n",
       "      <th>Ws</th>\n",
       "      <th>Rain</th>\n",
       "      <th>FFMC</th>\n",
       "      <th>DMC</th>\n",
       "      <th>DC</th>\n",
       "      <th>ISI</th>\n",
       "      <th>BUI</th>\n",
       "      <th>FWI</th>\n",
       "      <th>Temperature</th>\n",
       "    </tr>\n",
       "  </thead>\n",
       "  <tbody>\n",
       "    <tr>\n",
       "      <th>0</th>\n",
       "      <td>1</td>\n",
       "      <td>6</td>\n",
       "      <td>2012</td>\n",
       "      <td>57</td>\n",
       "      <td>18</td>\n",
       "      <td>0.0</td>\n",
       "      <td>65.7</td>\n",
       "      <td>3.4</td>\n",
       "      <td>7.6</td>\n",
       "      <td>1.3</td>\n",
       "      <td>3.4</td>\n",
       "      <td>0.5</td>\n",
       "      <td>29</td>\n",
       "    </tr>\n",
       "    <tr>\n",
       "      <th>1</th>\n",
       "      <td>2</td>\n",
       "      <td>6</td>\n",
       "      <td>2012</td>\n",
       "      <td>61</td>\n",
       "      <td>13</td>\n",
       "      <td>1.3</td>\n",
       "      <td>64.4</td>\n",
       "      <td>4.1</td>\n",
       "      <td>7.6</td>\n",
       "      <td>1.0</td>\n",
       "      <td>3.9</td>\n",
       "      <td>0.4</td>\n",
       "      <td>29</td>\n",
       "    </tr>\n",
       "    <tr>\n",
       "      <th>2</th>\n",
       "      <td>3</td>\n",
       "      <td>6</td>\n",
       "      <td>2012</td>\n",
       "      <td>82</td>\n",
       "      <td>22</td>\n",
       "      <td>13.1</td>\n",
       "      <td>47.1</td>\n",
       "      <td>2.5</td>\n",
       "      <td>7.1</td>\n",
       "      <td>0.3</td>\n",
       "      <td>2.7</td>\n",
       "      <td>0.1</td>\n",
       "      <td>26</td>\n",
       "    </tr>\n",
       "    <tr>\n",
       "      <th>3</th>\n",
       "      <td>4</td>\n",
       "      <td>6</td>\n",
       "      <td>2012</td>\n",
       "      <td>89</td>\n",
       "      <td>13</td>\n",
       "      <td>2.5</td>\n",
       "      <td>28.6</td>\n",
       "      <td>1.3</td>\n",
       "      <td>6.9</td>\n",
       "      <td>0.0</td>\n",
       "      <td>1.7</td>\n",
       "      <td>0</td>\n",
       "      <td>25</td>\n",
       "    </tr>\n",
       "    <tr>\n",
       "      <th>4</th>\n",
       "      <td>5</td>\n",
       "      <td>6</td>\n",
       "      <td>2012</td>\n",
       "      <td>77</td>\n",
       "      <td>16</td>\n",
       "      <td>0.0</td>\n",
       "      <td>64.8</td>\n",
       "      <td>3.0</td>\n",
       "      <td>14.2</td>\n",
       "      <td>1.2</td>\n",
       "      <td>3.9</td>\n",
       "      <td>0.5</td>\n",
       "      <td>27</td>\n",
       "    </tr>\n",
       "    <tr>\n",
       "      <th>...</th>\n",
       "      <td>...</td>\n",
       "      <td>...</td>\n",
       "      <td>...</td>\n",
       "      <td>...</td>\n",
       "      <td>...</td>\n",
       "      <td>...</td>\n",
       "      <td>...</td>\n",
       "      <td>...</td>\n",
       "      <td>...</td>\n",
       "      <td>...</td>\n",
       "      <td>...</td>\n",
       "      <td>...</td>\n",
       "      <td>...</td>\n",
       "    </tr>\n",
       "    <tr>\n",
       "      <th>239</th>\n",
       "      <td>26</td>\n",
       "      <td>9</td>\n",
       "      <td>2012</td>\n",
       "      <td>65</td>\n",
       "      <td>14</td>\n",
       "      <td>0.0</td>\n",
       "      <td>85.4</td>\n",
       "      <td>16.0</td>\n",
       "      <td>44.5</td>\n",
       "      <td>4.5</td>\n",
       "      <td>16.9</td>\n",
       "      <td>6.5</td>\n",
       "      <td>30</td>\n",
       "    </tr>\n",
       "    <tr>\n",
       "      <th>240</th>\n",
       "      <td>27</td>\n",
       "      <td>9</td>\n",
       "      <td>2012</td>\n",
       "      <td>87</td>\n",
       "      <td>15</td>\n",
       "      <td>4.4</td>\n",
       "      <td>41.1</td>\n",
       "      <td>6.5</td>\n",
       "      <td>8</td>\n",
       "      <td>0.1</td>\n",
       "      <td>6.2</td>\n",
       "      <td>0</td>\n",
       "      <td>28</td>\n",
       "    </tr>\n",
       "    <tr>\n",
       "      <th>241</th>\n",
       "      <td>28</td>\n",
       "      <td>9</td>\n",
       "      <td>2012</td>\n",
       "      <td>87</td>\n",
       "      <td>29</td>\n",
       "      <td>0.5</td>\n",
       "      <td>45.9</td>\n",
       "      <td>3.5</td>\n",
       "      <td>7.9</td>\n",
       "      <td>0.4</td>\n",
       "      <td>3.4</td>\n",
       "      <td>0.2</td>\n",
       "      <td>27</td>\n",
       "    </tr>\n",
       "    <tr>\n",
       "      <th>242</th>\n",
       "      <td>29</td>\n",
       "      <td>9</td>\n",
       "      <td>2012</td>\n",
       "      <td>54</td>\n",
       "      <td>18</td>\n",
       "      <td>0.1</td>\n",
       "      <td>79.7</td>\n",
       "      <td>4.3</td>\n",
       "      <td>15.2</td>\n",
       "      <td>1.7</td>\n",
       "      <td>5.1</td>\n",
       "      <td>0.7</td>\n",
       "      <td>24</td>\n",
       "    </tr>\n",
       "    <tr>\n",
       "      <th>243</th>\n",
       "      <td>30</td>\n",
       "      <td>9</td>\n",
       "      <td>2012</td>\n",
       "      <td>64</td>\n",
       "      <td>15</td>\n",
       "      <td>0.2</td>\n",
       "      <td>67.3</td>\n",
       "      <td>3.8</td>\n",
       "      <td>16.5</td>\n",
       "      <td>1.2</td>\n",
       "      <td>4.8</td>\n",
       "      <td>0.5</td>\n",
       "      <td>24</td>\n",
       "    </tr>\n",
       "  </tbody>\n",
       "</table>\n",
       "<p>244 rows × 13 columns</p>\n",
       "</div>"
      ],
      "text/plain": [
       "     day  month  year   RH   Ws  Rain   FFMC   DMC    DC  ISI   BUI  FWI  \\\n",
       "0      1      6  2012   57   18    0.0  65.7   3.4   7.6  1.3   3.4  0.5   \n",
       "1      2      6  2012   61   13    1.3  64.4   4.1   7.6  1.0   3.9  0.4   \n",
       "2      3      6  2012   82   22   13.1  47.1   2.5   7.1  0.3   2.7  0.1   \n",
       "3      4      6  2012   89   13    2.5  28.6   1.3   6.9  0.0   1.7    0   \n",
       "4      5      6  2012   77   16    0.0  64.8   3.0  14.2  1.2   3.9  0.5   \n",
       "..   ...    ...   ...  ...  ...    ...   ...   ...   ...  ...   ...  ...   \n",
       "239   26      9  2012   65   14    0.0  85.4  16.0  44.5  4.5  16.9  6.5   \n",
       "240   27      9  2012   87   15    4.4  41.1   6.5     8  0.1   6.2    0   \n",
       "241   28      9  2012   87   29    0.5  45.9   3.5   7.9  0.4   3.4  0.2   \n",
       "242   29      9  2012   54   18    0.1  79.7   4.3  15.2  1.7   5.1  0.7   \n",
       "243   30      9  2012   64   15    0.2  67.3   3.8  16.5  1.2   4.8  0.5   \n",
       "\n",
       "     Temperature  \n",
       "0             29  \n",
       "1             29  \n",
       "2             26  \n",
       "3             25  \n",
       "4             27  \n",
       "..           ...  \n",
       "239           30  \n",
       "240           28  \n",
       "241           27  \n",
       "242           24  \n",
       "243           24  \n",
       "\n",
       "[244 rows x 13 columns]"
      ]
     },
     "execution_count": 2,
     "metadata": {},
     "output_type": "execute_result"
    }
   ],
   "source": [
    "df = pd.read_csv('Algerian_forest_fire.csv')\n",
    "df"
   ]
  },
  {
   "cell_type": "code",
   "execution_count": 3,
   "id": "529a4f9b",
   "metadata": {},
   "outputs": [
    {
     "name": "stdout",
     "output_type": "stream",
     "text": [
      "<class 'pandas.core.frame.DataFrame'>\n",
      "RangeIndex: 244 entries, 0 to 243\n",
      "Data columns (total 13 columns):\n",
      " #   Column       Non-Null Count  Dtype  \n",
      "---  ------       --------------  -----  \n",
      " 0   day          244 non-null    int64  \n",
      " 1   month        244 non-null    int64  \n",
      " 2   year         244 non-null    int64  \n",
      " 3    RH          244 non-null    int64  \n",
      " 4    Ws          244 non-null    int64  \n",
      " 5   Rain         244 non-null    float64\n",
      " 6   FFMC         244 non-null    float64\n",
      " 7   DMC          244 non-null    float64\n",
      " 8   DC           244 non-null    object \n",
      " 9   ISI          244 non-null    float64\n",
      " 10  BUI          244 non-null    float64\n",
      " 11  FWI          244 non-null    object \n",
      " 12  Temperature  244 non-null    int64  \n",
      "dtypes: float64(5), int64(6), object(2)\n",
      "memory usage: 24.9+ KB\n"
     ]
    }
   ],
   "source": [
    "df.info()"
   ]
  },
  {
   "cell_type": "code",
   "execution_count": 4,
   "id": "6b4204ef",
   "metadata": {},
   "outputs": [],
   "source": [
    "# Converting object type features to float type\n",
    "df['DC']=pd.to_numeric(df['DC'], errors='coerce')\n",
    "df['FWI']=pd.to_numeric(df['FWI'], errors='coerce')"
   ]
  },
  {
   "cell_type": "code",
   "execution_count": 5,
   "id": "c2ab380e",
   "metadata": {},
   "outputs": [
    {
     "data": {
      "text/plain": [
       "day              int64\n",
       "month            int64\n",
       "year             int64\n",
       " RH              int64\n",
       " Ws              int64\n",
       "Rain           float64\n",
       "FFMC           float64\n",
       "DMC            float64\n",
       "DC             float64\n",
       "ISI            float64\n",
       "BUI            float64\n",
       "FWI            float64\n",
       "Temperature      int64\n",
       "dtype: object"
      ]
     },
     "execution_count": 5,
     "metadata": {},
     "output_type": "execute_result"
    }
   ],
   "source": [
    "df.dtypes"
   ]
  },
  {
   "cell_type": "markdown",
   "id": "112e84a9",
   "metadata": {},
   "source": [
    "### Attribute Information:\n",
    "\n",
    "1. **Date :** (DD/MM/YYYY) Day, month ('june' to 'september'), year (2012) Weather data observations\n",
    "2. **RH :** Relative Humidity in %: 21 to 90\n",
    "3. **Ws :**Wind speed in km/h: 6 to 29\n",
    "4. **Rain :** total day in mm: 0 to 16.8 FWI Components\n",
    "5. **Fine Fuel Moisture Code (FFMC) :** index from the FWI system: 28.6 to 92.5\n",
    "6. **Duff Moisture Code (DMC) :** index from the FWI system: 1.1 to 65.9\n",
    "7. **Drought Code (DC) :** index from the FWI system: 7 to 220.4\n",
    "8. **Initial Spread Index (ISI) :** index from the FWI system: 0 to 18.5\n",
    "9. **Buildup Index (BUI) :** index from the FWI system: 1.1 to 68\n",
    "10. **Fire Weather Index (FWI) :** Index: 0 to 31.1\n",
    "11. **Temperature :** temperature noon (temperature max) in Celsius degrees: 22 to 42"
   ]
  },
  {
   "cell_type": "markdown",
   "id": "0a42b2e5",
   "metadata": {},
   "source": [
    "### checking for null values"
   ]
  },
  {
   "cell_type": "code",
   "execution_count": 6,
   "id": "ba38bb4c",
   "metadata": {},
   "outputs": [
    {
     "data": {
      "text/plain": [
       "day            0\n",
       "month          0\n",
       "year           0\n",
       " RH            0\n",
       " Ws            0\n",
       "Rain           0\n",
       "FFMC           0\n",
       "DMC            0\n",
       "DC             1\n",
       "ISI            0\n",
       "BUI            0\n",
       "FWI            1\n",
       "Temperature    0\n",
       "dtype: int64"
      ]
     },
     "execution_count": 6,
     "metadata": {},
     "output_type": "execute_result"
    }
   ],
   "source": [
    "df.isnull().sum()"
   ]
  },
  {
   "cell_type": "code",
   "execution_count": 7,
   "id": "26d49b75",
   "metadata": {},
   "outputs": [],
   "source": [
    "df.dropna(inplace=True)"
   ]
  },
  {
   "cell_type": "code",
   "execution_count": 8,
   "id": "9f705a00",
   "metadata": {},
   "outputs": [
    {
     "data": {
      "text/plain": [
       "day            0\n",
       "month          0\n",
       "year           0\n",
       " RH            0\n",
       " Ws            0\n",
       "Rain           0\n",
       "FFMC           0\n",
       "DMC            0\n",
       "DC             0\n",
       "ISI            0\n",
       "BUI            0\n",
       "FWI            0\n",
       "Temperature    0\n",
       "dtype: int64"
      ]
     },
     "execution_count": 8,
     "metadata": {},
     "output_type": "execute_result"
    }
   ],
   "source": [
    "df.isnull().sum()"
   ]
  },
  {
   "cell_type": "code",
   "execution_count": 9,
   "id": "fa3ffb03",
   "metadata": {},
   "outputs": [
    {
     "data": {
      "text/html": [
       "<div>\n",
       "<style scoped>\n",
       "    .dataframe tbody tr th:only-of-type {\n",
       "        vertical-align: middle;\n",
       "    }\n",
       "\n",
       "    .dataframe tbody tr th {\n",
       "        vertical-align: top;\n",
       "    }\n",
       "\n",
       "    .dataframe thead th {\n",
       "        text-align: right;\n",
       "    }\n",
       "</style>\n",
       "<table border=\"1\" class=\"dataframe\">\n",
       "  <thead>\n",
       "    <tr style=\"text-align: right;\">\n",
       "      <th></th>\n",
       "      <th>count</th>\n",
       "      <th>mean</th>\n",
       "      <th>std</th>\n",
       "      <th>min</th>\n",
       "      <th>25%</th>\n",
       "      <th>50%</th>\n",
       "      <th>75%</th>\n",
       "      <th>max</th>\n",
       "    </tr>\n",
       "  </thead>\n",
       "  <tbody>\n",
       "    <tr>\n",
       "      <th>day</th>\n",
       "      <td>243.0</td>\n",
       "      <td>15.761317</td>\n",
       "      <td>8.842552</td>\n",
       "      <td>1.0</td>\n",
       "      <td>8.00</td>\n",
       "      <td>16.0</td>\n",
       "      <td>23.00</td>\n",
       "      <td>31.0</td>\n",
       "    </tr>\n",
       "    <tr>\n",
       "      <th>month</th>\n",
       "      <td>243.0</td>\n",
       "      <td>7.502058</td>\n",
       "      <td>1.114793</td>\n",
       "      <td>6.0</td>\n",
       "      <td>7.00</td>\n",
       "      <td>8.0</td>\n",
       "      <td>8.00</td>\n",
       "      <td>9.0</td>\n",
       "    </tr>\n",
       "    <tr>\n",
       "      <th>year</th>\n",
       "      <td>243.0</td>\n",
       "      <td>2012.000000</td>\n",
       "      <td>0.000000</td>\n",
       "      <td>2012.0</td>\n",
       "      <td>2012.00</td>\n",
       "      <td>2012.0</td>\n",
       "      <td>2012.00</td>\n",
       "      <td>2012.0</td>\n",
       "    </tr>\n",
       "    <tr>\n",
       "      <th>RH</th>\n",
       "      <td>243.0</td>\n",
       "      <td>62.041152</td>\n",
       "      <td>14.828160</td>\n",
       "      <td>21.0</td>\n",
       "      <td>52.50</td>\n",
       "      <td>63.0</td>\n",
       "      <td>73.50</td>\n",
       "      <td>90.0</td>\n",
       "    </tr>\n",
       "    <tr>\n",
       "      <th>Ws</th>\n",
       "      <td>243.0</td>\n",
       "      <td>15.493827</td>\n",
       "      <td>2.811385</td>\n",
       "      <td>6.0</td>\n",
       "      <td>14.00</td>\n",
       "      <td>15.0</td>\n",
       "      <td>17.00</td>\n",
       "      <td>29.0</td>\n",
       "    </tr>\n",
       "    <tr>\n",
       "      <th>Rain</th>\n",
       "      <td>243.0</td>\n",
       "      <td>0.762963</td>\n",
       "      <td>2.003207</td>\n",
       "      <td>0.0</td>\n",
       "      <td>0.00</td>\n",
       "      <td>0.0</td>\n",
       "      <td>0.50</td>\n",
       "      <td>16.8</td>\n",
       "    </tr>\n",
       "    <tr>\n",
       "      <th>FFMC</th>\n",
       "      <td>243.0</td>\n",
       "      <td>77.842387</td>\n",
       "      <td>14.349641</td>\n",
       "      <td>28.6</td>\n",
       "      <td>71.85</td>\n",
       "      <td>83.3</td>\n",
       "      <td>88.30</td>\n",
       "      <td>96.0</td>\n",
       "    </tr>\n",
       "    <tr>\n",
       "      <th>DMC</th>\n",
       "      <td>243.0</td>\n",
       "      <td>14.680658</td>\n",
       "      <td>12.393040</td>\n",
       "      <td>0.7</td>\n",
       "      <td>5.80</td>\n",
       "      <td>11.3</td>\n",
       "      <td>20.80</td>\n",
       "      <td>65.9</td>\n",
       "    </tr>\n",
       "    <tr>\n",
       "      <th>DC</th>\n",
       "      <td>243.0</td>\n",
       "      <td>49.430864</td>\n",
       "      <td>47.665606</td>\n",
       "      <td>6.9</td>\n",
       "      <td>12.35</td>\n",
       "      <td>33.1</td>\n",
       "      <td>69.10</td>\n",
       "      <td>220.4</td>\n",
       "    </tr>\n",
       "    <tr>\n",
       "      <th>ISI</th>\n",
       "      <td>243.0</td>\n",
       "      <td>4.742387</td>\n",
       "      <td>4.154234</td>\n",
       "      <td>0.0</td>\n",
       "      <td>1.40</td>\n",
       "      <td>3.5</td>\n",
       "      <td>7.25</td>\n",
       "      <td>19.0</td>\n",
       "    </tr>\n",
       "    <tr>\n",
       "      <th>BUI</th>\n",
       "      <td>243.0</td>\n",
       "      <td>16.690535</td>\n",
       "      <td>14.228421</td>\n",
       "      <td>1.1</td>\n",
       "      <td>6.00</td>\n",
       "      <td>12.4</td>\n",
       "      <td>22.65</td>\n",
       "      <td>68.0</td>\n",
       "    </tr>\n",
       "    <tr>\n",
       "      <th>FWI</th>\n",
       "      <td>243.0</td>\n",
       "      <td>7.035391</td>\n",
       "      <td>7.440568</td>\n",
       "      <td>0.0</td>\n",
       "      <td>0.70</td>\n",
       "      <td>4.2</td>\n",
       "      <td>11.45</td>\n",
       "      <td>31.1</td>\n",
       "    </tr>\n",
       "    <tr>\n",
       "      <th>Temperature</th>\n",
       "      <td>243.0</td>\n",
       "      <td>32.152263</td>\n",
       "      <td>3.628039</td>\n",
       "      <td>22.0</td>\n",
       "      <td>30.00</td>\n",
       "      <td>32.0</td>\n",
       "      <td>35.00</td>\n",
       "      <td>42.0</td>\n",
       "    </tr>\n",
       "  </tbody>\n",
       "</table>\n",
       "</div>"
      ],
      "text/plain": [
       "             count         mean        std     min      25%     50%      75%  \\\n",
       "day          243.0    15.761317   8.842552     1.0     8.00    16.0    23.00   \n",
       "month        243.0     7.502058   1.114793     6.0     7.00     8.0     8.00   \n",
       "year         243.0  2012.000000   0.000000  2012.0  2012.00  2012.0  2012.00   \n",
       " RH          243.0    62.041152  14.828160    21.0    52.50    63.0    73.50   \n",
       " Ws          243.0    15.493827   2.811385     6.0    14.00    15.0    17.00   \n",
       "Rain         243.0     0.762963   2.003207     0.0     0.00     0.0     0.50   \n",
       "FFMC         243.0    77.842387  14.349641    28.6    71.85    83.3    88.30   \n",
       "DMC          243.0    14.680658  12.393040     0.7     5.80    11.3    20.80   \n",
       "DC           243.0    49.430864  47.665606     6.9    12.35    33.1    69.10   \n",
       "ISI          243.0     4.742387   4.154234     0.0     1.40     3.5     7.25   \n",
       "BUI          243.0    16.690535  14.228421     1.1     6.00    12.4    22.65   \n",
       "FWI          243.0     7.035391   7.440568     0.0     0.70     4.2    11.45   \n",
       "Temperature  243.0    32.152263   3.628039    22.0    30.00    32.0    35.00   \n",
       "\n",
       "                max  \n",
       "day            31.0  \n",
       "month           9.0  \n",
       "year         2012.0  \n",
       " RH            90.0  \n",
       " Ws            29.0  \n",
       "Rain           16.8  \n",
       "FFMC           96.0  \n",
       "DMC            65.9  \n",
       "DC            220.4  \n",
       "ISI            19.0  \n",
       "BUI            68.0  \n",
       "FWI            31.1  \n",
       "Temperature    42.0  "
      ]
     },
     "execution_count": 9,
     "metadata": {},
     "output_type": "execute_result"
    }
   ],
   "source": [
    "# Description of data\n",
    "df.describe().T"
   ]
  },
  {
   "cell_type": "code",
   "execution_count": 10,
   "id": "502bd803",
   "metadata": {},
   "outputs": [
    {
     "data": {
      "text/html": [
       "<div>\n",
       "<style scoped>\n",
       "    .dataframe tbody tr th:only-of-type {\n",
       "        vertical-align: middle;\n",
       "    }\n",
       "\n",
       "    .dataframe tbody tr th {\n",
       "        vertical-align: top;\n",
       "    }\n",
       "\n",
       "    .dataframe thead th {\n",
       "        text-align: right;\n",
       "    }\n",
       "</style>\n",
       "<table border=\"1\" class=\"dataframe\">\n",
       "  <thead>\n",
       "    <tr style=\"text-align: right;\">\n",
       "      <th></th>\n",
       "      <th>day</th>\n",
       "      <th>month</th>\n",
       "      <th>year</th>\n",
       "      <th>RH</th>\n",
       "      <th>Ws</th>\n",
       "      <th>Rain</th>\n",
       "      <th>FFMC</th>\n",
       "      <th>DMC</th>\n",
       "      <th>DC</th>\n",
       "      <th>ISI</th>\n",
       "      <th>BUI</th>\n",
       "      <th>FWI</th>\n",
       "      <th>Temperature</th>\n",
       "    </tr>\n",
       "  </thead>\n",
       "  <tbody>\n",
       "    <tr>\n",
       "      <th>day</th>\n",
       "      <td>1.000000</td>\n",
       "      <td>-0.000369</td>\n",
       "      <td>NaN</td>\n",
       "      <td>-0.076034</td>\n",
       "      <td>0.047812</td>\n",
       "      <td>-0.112523</td>\n",
       "      <td>0.224956</td>\n",
       "      <td>0.491514</td>\n",
       "      <td>0.527952</td>\n",
       "      <td>0.180543</td>\n",
       "      <td>0.517117</td>\n",
       "      <td>0.350781</td>\n",
       "      <td>0.097227</td>\n",
       "    </tr>\n",
       "    <tr>\n",
       "      <th>month</th>\n",
       "      <td>-0.000369</td>\n",
       "      <td>1.000000</td>\n",
       "      <td>NaN</td>\n",
       "      <td>-0.041252</td>\n",
       "      <td>-0.039880</td>\n",
       "      <td>0.034822</td>\n",
       "      <td>0.017030</td>\n",
       "      <td>0.067943</td>\n",
       "      <td>0.126511</td>\n",
       "      <td>0.065608</td>\n",
       "      <td>0.085073</td>\n",
       "      <td>0.082639</td>\n",
       "      <td>-0.056781</td>\n",
       "    </tr>\n",
       "    <tr>\n",
       "      <th>year</th>\n",
       "      <td>NaN</td>\n",
       "      <td>NaN</td>\n",
       "      <td>NaN</td>\n",
       "      <td>NaN</td>\n",
       "      <td>NaN</td>\n",
       "      <td>NaN</td>\n",
       "      <td>NaN</td>\n",
       "      <td>NaN</td>\n",
       "      <td>NaN</td>\n",
       "      <td>NaN</td>\n",
       "      <td>NaN</td>\n",
       "      <td>NaN</td>\n",
       "      <td>NaN</td>\n",
       "    </tr>\n",
       "    <tr>\n",
       "      <th>RH</th>\n",
       "      <td>-0.076034</td>\n",
       "      <td>-0.041252</td>\n",
       "      <td>NaN</td>\n",
       "      <td>1.000000</td>\n",
       "      <td>0.244048</td>\n",
       "      <td>0.222356</td>\n",
       "      <td>-0.644873</td>\n",
       "      <td>-0.408519</td>\n",
       "      <td>-0.226941</td>\n",
       "      <td>-0.686667</td>\n",
       "      <td>-0.353841</td>\n",
       "      <td>-0.580957</td>\n",
       "      <td>-0.651400</td>\n",
       "    </tr>\n",
       "    <tr>\n",
       "      <th>Ws</th>\n",
       "      <td>0.047812</td>\n",
       "      <td>-0.039880</td>\n",
       "      <td>NaN</td>\n",
       "      <td>0.244048</td>\n",
       "      <td>1.000000</td>\n",
       "      <td>0.171506</td>\n",
       "      <td>-0.166548</td>\n",
       "      <td>-0.000721</td>\n",
       "      <td>0.079135</td>\n",
       "      <td>0.008532</td>\n",
       "      <td>0.031438</td>\n",
       "      <td>0.032368</td>\n",
       "      <td>-0.284510</td>\n",
       "    </tr>\n",
       "    <tr>\n",
       "      <th>Rain</th>\n",
       "      <td>-0.112523</td>\n",
       "      <td>0.034822</td>\n",
       "      <td>NaN</td>\n",
       "      <td>0.222356</td>\n",
       "      <td>0.171506</td>\n",
       "      <td>1.000000</td>\n",
       "      <td>-0.543906</td>\n",
       "      <td>-0.288773</td>\n",
       "      <td>-0.298023</td>\n",
       "      <td>-0.347484</td>\n",
       "      <td>-0.299852</td>\n",
       "      <td>-0.324422</td>\n",
       "      <td>-0.326492</td>\n",
       "    </tr>\n",
       "    <tr>\n",
       "      <th>FFMC</th>\n",
       "      <td>0.224956</td>\n",
       "      <td>0.017030</td>\n",
       "      <td>NaN</td>\n",
       "      <td>-0.644873</td>\n",
       "      <td>-0.166548</td>\n",
       "      <td>-0.543906</td>\n",
       "      <td>1.000000</td>\n",
       "      <td>0.603608</td>\n",
       "      <td>0.507397</td>\n",
       "      <td>0.740007</td>\n",
       "      <td>0.592011</td>\n",
       "      <td>0.691132</td>\n",
       "      <td>0.676568</td>\n",
       "    </tr>\n",
       "    <tr>\n",
       "      <th>DMC</th>\n",
       "      <td>0.491514</td>\n",
       "      <td>0.067943</td>\n",
       "      <td>NaN</td>\n",
       "      <td>-0.408519</td>\n",
       "      <td>-0.000721</td>\n",
       "      <td>-0.288773</td>\n",
       "      <td>0.603608</td>\n",
       "      <td>1.000000</td>\n",
       "      <td>0.875925</td>\n",
       "      <td>0.680454</td>\n",
       "      <td>0.982248</td>\n",
       "      <td>0.875864</td>\n",
       "      <td>0.485687</td>\n",
       "    </tr>\n",
       "    <tr>\n",
       "      <th>DC</th>\n",
       "      <td>0.527952</td>\n",
       "      <td>0.126511</td>\n",
       "      <td>NaN</td>\n",
       "      <td>-0.226941</td>\n",
       "      <td>0.079135</td>\n",
       "      <td>-0.298023</td>\n",
       "      <td>0.507397</td>\n",
       "      <td>0.875925</td>\n",
       "      <td>1.000000</td>\n",
       "      <td>0.508643</td>\n",
       "      <td>0.941988</td>\n",
       "      <td>0.739521</td>\n",
       "      <td>0.376284</td>\n",
       "    </tr>\n",
       "    <tr>\n",
       "      <th>ISI</th>\n",
       "      <td>0.180543</td>\n",
       "      <td>0.065608</td>\n",
       "      <td>NaN</td>\n",
       "      <td>-0.686667</td>\n",
       "      <td>0.008532</td>\n",
       "      <td>-0.347484</td>\n",
       "      <td>0.740007</td>\n",
       "      <td>0.680454</td>\n",
       "      <td>0.508643</td>\n",
       "      <td>1.000000</td>\n",
       "      <td>0.644093</td>\n",
       "      <td>0.922895</td>\n",
       "      <td>0.603871</td>\n",
       "    </tr>\n",
       "    <tr>\n",
       "      <th>BUI</th>\n",
       "      <td>0.517117</td>\n",
       "      <td>0.085073</td>\n",
       "      <td>NaN</td>\n",
       "      <td>-0.353841</td>\n",
       "      <td>0.031438</td>\n",
       "      <td>-0.299852</td>\n",
       "      <td>0.592011</td>\n",
       "      <td>0.982248</td>\n",
       "      <td>0.941988</td>\n",
       "      <td>0.644093</td>\n",
       "      <td>1.000000</td>\n",
       "      <td>0.857973</td>\n",
       "      <td>0.459789</td>\n",
       "    </tr>\n",
       "    <tr>\n",
       "      <th>FWI</th>\n",
       "      <td>0.350781</td>\n",
       "      <td>0.082639</td>\n",
       "      <td>NaN</td>\n",
       "      <td>-0.580957</td>\n",
       "      <td>0.032368</td>\n",
       "      <td>-0.324422</td>\n",
       "      <td>0.691132</td>\n",
       "      <td>0.875864</td>\n",
       "      <td>0.739521</td>\n",
       "      <td>0.922895</td>\n",
       "      <td>0.857973</td>\n",
       "      <td>1.000000</td>\n",
       "      <td>0.566670</td>\n",
       "    </tr>\n",
       "    <tr>\n",
       "      <th>Temperature</th>\n",
       "      <td>0.097227</td>\n",
       "      <td>-0.056781</td>\n",
       "      <td>NaN</td>\n",
       "      <td>-0.651400</td>\n",
       "      <td>-0.284510</td>\n",
       "      <td>-0.326492</td>\n",
       "      <td>0.676568</td>\n",
       "      <td>0.485687</td>\n",
       "      <td>0.376284</td>\n",
       "      <td>0.603871</td>\n",
       "      <td>0.459789</td>\n",
       "      <td>0.566670</td>\n",
       "      <td>1.000000</td>\n",
       "    </tr>\n",
       "  </tbody>\n",
       "</table>\n",
       "</div>"
      ],
      "text/plain": [
       "                  day     month  year        RH        Ws     Rain       FFMC  \\\n",
       "day          1.000000 -0.000369   NaN -0.076034  0.047812 -0.112523  0.224956   \n",
       "month       -0.000369  1.000000   NaN -0.041252 -0.039880  0.034822  0.017030   \n",
       "year              NaN       NaN   NaN       NaN       NaN       NaN       NaN   \n",
       " RH         -0.076034 -0.041252   NaN  1.000000  0.244048  0.222356 -0.644873   \n",
       " Ws          0.047812 -0.039880   NaN  0.244048  1.000000  0.171506 -0.166548   \n",
       "Rain        -0.112523  0.034822   NaN  0.222356  0.171506  1.000000 -0.543906   \n",
       "FFMC         0.224956  0.017030   NaN -0.644873 -0.166548 -0.543906  1.000000   \n",
       "DMC          0.491514  0.067943   NaN -0.408519 -0.000721 -0.288773  0.603608   \n",
       "DC           0.527952  0.126511   NaN -0.226941  0.079135 -0.298023  0.507397   \n",
       "ISI          0.180543  0.065608   NaN -0.686667  0.008532 -0.347484  0.740007   \n",
       "BUI          0.517117  0.085073   NaN -0.353841  0.031438 -0.299852  0.592011   \n",
       "FWI          0.350781  0.082639   NaN -0.580957  0.032368 -0.324422  0.691132   \n",
       "Temperature  0.097227 -0.056781   NaN -0.651400 -0.284510 -0.326492  0.676568   \n",
       "\n",
       "                  DMC        DC       ISI       BUI       FWI  Temperature  \n",
       "day          0.491514  0.527952  0.180543  0.517117  0.350781     0.097227  \n",
       "month        0.067943  0.126511  0.065608  0.085073  0.082639    -0.056781  \n",
       "year              NaN       NaN       NaN       NaN       NaN          NaN  \n",
       " RH         -0.408519 -0.226941 -0.686667 -0.353841 -0.580957    -0.651400  \n",
       " Ws         -0.000721  0.079135  0.008532  0.031438  0.032368    -0.284510  \n",
       "Rain        -0.288773 -0.298023 -0.347484 -0.299852 -0.324422    -0.326492  \n",
       "FFMC         0.603608  0.507397  0.740007  0.592011  0.691132     0.676568  \n",
       "DMC          1.000000  0.875925  0.680454  0.982248  0.875864     0.485687  \n",
       "DC           0.875925  1.000000  0.508643  0.941988  0.739521     0.376284  \n",
       "ISI          0.680454  0.508643  1.000000  0.644093  0.922895     0.603871  \n",
       "BUI          0.982248  0.941988  0.644093  1.000000  0.857973     0.459789  \n",
       "FWI          0.875864  0.739521  0.922895  0.857973  1.000000     0.566670  \n",
       "Temperature  0.485687  0.376284  0.603871  0.459789  0.566670     1.000000  "
      ]
     },
     "execution_count": 10,
     "metadata": {},
     "output_type": "execute_result"
    }
   ],
   "source": [
    "df.corr()"
   ]
  },
  {
   "cell_type": "code",
   "execution_count": 11,
   "id": "ce7616b4",
   "metadata": {},
   "outputs": [],
   "source": [
    "# Above correlation table, we can identify that the correlation between BUI and DMC is 0.98 i.e 98% \n",
    "# if we want to drop any one feature we can drop. but here i am not droping "
   ]
  },
  {
   "cell_type": "code",
   "execution_count": 12,
   "id": "a0fd1340",
   "metadata": {},
   "outputs": [
    {
     "data": {
      "text/plain": [
       "Text(0, 0.5, 'Duff Moisture Code (DMC)')"
      ]
     },
     "execution_count": 12,
     "metadata": {},
     "output_type": "execute_result"
    },
    {
     "data": {
      "image/png": "[encoded data removed]",
      "text/plain": [
       "<Figure size 432x288 with 1 Axes>"
      ]
     },
     "metadata": {
      "needs_background": "light"
     },
     "output_type": "display_data"
    }
   ],
   "source": [
    "plt.scatter(df['BUI'],df['DMC'])\n",
    "plt.xlabel(\"Buildup Index (BUI)\")\n",
    "plt.ylabel('Duff Moisture Code (DMC)')"
   ]
  },
  {
   "cell_type": "markdown",
   "id": "27060b62",
   "metadata": {},
   "source": [
    "# Separating independent and dependent features\n",
    "### As we are trying to predict the temperature here . so, Temperature will become our dependent feature and remaning all are considered as independent features"
   ]
  },
  {
   "cell_type": "code",
   "execution_count": 13,
   "id": "422678fe",
   "metadata": {},
   "outputs": [
    {
     "data": {
      "text/html": [
       "<div>\n",
       "<style scoped>\n",
       "    .dataframe tbody tr th:only-of-type {\n",
       "        vertical-align: middle;\n",
       "    }\n",
       "\n",
       "    .dataframe tbody tr th {\n",
       "        vertical-align: top;\n",
       "    }\n",
       "\n",
       "    .dataframe thead th {\n",
       "        text-align: right;\n",
       "    }\n",
       "</style>\n",
       "<table border=\"1\" class=\"dataframe\">\n",
       "  <thead>\n",
       "    <tr style=\"text-align: right;\">\n",
       "      <th></th>\n",
       "      <th>day</th>\n",
       "      <th>month</th>\n",
       "      <th>year</th>\n",
       "      <th>RH</th>\n",
       "      <th>Ws</th>\n",
       "      <th>Rain</th>\n",
       "      <th>FFMC</th>\n",
       "      <th>DMC</th>\n",
       "      <th>DC</th>\n",
       "      <th>ISI</th>\n",
       "      <th>BUI</th>\n",
       "      <th>FWI</th>\n",
       "    </tr>\n",
       "  </thead>\n",
       "  <tbody>\n",
       "    <tr>\n",
       "      <th>0</th>\n",
       "      <td>1</td>\n",
       "      <td>6</td>\n",
       "      <td>2012</td>\n",
       "      <td>57</td>\n",
       "      <td>18</td>\n",
       "      <td>0.0</td>\n",
       "      <td>65.7</td>\n",
       "      <td>3.4</td>\n",
       "      <td>7.6</td>\n",
       "      <td>1.3</td>\n",
       "      <td>3.4</td>\n",
       "      <td>0.5</td>\n",
       "    </tr>\n",
       "    <tr>\n",
       "      <th>1</th>\n",
       "      <td>2</td>\n",
       "      <td>6</td>\n",
       "      <td>2012</td>\n",
       "      <td>61</td>\n",
       "      <td>13</td>\n",
       "      <td>1.3</td>\n",
       "      <td>64.4</td>\n",
       "      <td>4.1</td>\n",
       "      <td>7.6</td>\n",
       "      <td>1.0</td>\n",
       "      <td>3.9</td>\n",
       "      <td>0.4</td>\n",
       "    </tr>\n",
       "    <tr>\n",
       "      <th>2</th>\n",
       "      <td>3</td>\n",
       "      <td>6</td>\n",
       "      <td>2012</td>\n",
       "      <td>82</td>\n",
       "      <td>22</td>\n",
       "      <td>13.1</td>\n",
       "      <td>47.1</td>\n",
       "      <td>2.5</td>\n",
       "      <td>7.1</td>\n",
       "      <td>0.3</td>\n",
       "      <td>2.7</td>\n",
       "      <td>0.1</td>\n",
       "    </tr>\n",
       "    <tr>\n",
       "      <th>3</th>\n",
       "      <td>4</td>\n",
       "      <td>6</td>\n",
       "      <td>2012</td>\n",
       "      <td>89</td>\n",
       "      <td>13</td>\n",
       "      <td>2.5</td>\n",
       "      <td>28.6</td>\n",
       "      <td>1.3</td>\n",
       "      <td>6.9</td>\n",
       "      <td>0.0</td>\n",
       "      <td>1.7</td>\n",
       "      <td>0.0</td>\n",
       "    </tr>\n",
       "    <tr>\n",
       "      <th>4</th>\n",
       "      <td>5</td>\n",
       "      <td>6</td>\n",
       "      <td>2012</td>\n",
       "      <td>77</td>\n",
       "      <td>16</td>\n",
       "      <td>0.0</td>\n",
       "      <td>64.8</td>\n",
       "      <td>3.0</td>\n",
       "      <td>14.2</td>\n",
       "      <td>1.2</td>\n",
       "      <td>3.9</td>\n",
       "      <td>0.5</td>\n",
       "    </tr>\n",
       "    <tr>\n",
       "      <th>...</th>\n",
       "      <td>...</td>\n",
       "      <td>...</td>\n",
       "      <td>...</td>\n",
       "      <td>...</td>\n",
       "      <td>...</td>\n",
       "      <td>...</td>\n",
       "      <td>...</td>\n",
       "      <td>...</td>\n",
       "      <td>...</td>\n",
       "      <td>...</td>\n",
       "      <td>...</td>\n",
       "      <td>...</td>\n",
       "    </tr>\n",
       "    <tr>\n",
       "      <th>239</th>\n",
       "      <td>26</td>\n",
       "      <td>9</td>\n",
       "      <td>2012</td>\n",
       "      <td>65</td>\n",
       "      <td>14</td>\n",
       "      <td>0.0</td>\n",
       "      <td>85.4</td>\n",
       "      <td>16.0</td>\n",
       "      <td>44.5</td>\n",
       "      <td>4.5</td>\n",
       "      <td>16.9</td>\n",
       "      <td>6.5</td>\n",
       "    </tr>\n",
       "    <tr>\n",
       "      <th>240</th>\n",
       "      <td>27</td>\n",
       "      <td>9</td>\n",
       "      <td>2012</td>\n",
       "      <td>87</td>\n",
       "      <td>15</td>\n",
       "      <td>4.4</td>\n",
       "      <td>41.1</td>\n",
       "      <td>6.5</td>\n",
       "      <td>8.0</td>\n",
       "      <td>0.1</td>\n",
       "      <td>6.2</td>\n",
       "      <td>0.0</td>\n",
       "    </tr>\n",
       "    <tr>\n",
       "      <th>241</th>\n",
       "      <td>28</td>\n",
       "      <td>9</td>\n",
       "      <td>2012</td>\n",
       "      <td>87</td>\n",
       "      <td>29</td>\n",
       "      <td>0.5</td>\n",
       "      <td>45.9</td>\n",
       "      <td>3.5</td>\n",
       "      <td>7.9</td>\n",
       "      <td>0.4</td>\n",
       "      <td>3.4</td>\n",
       "      <td>0.2</td>\n",
       "    </tr>\n",
       "    <tr>\n",
       "      <th>242</th>\n",
       "      <td>29</td>\n",
       "      <td>9</td>\n",
       "      <td>2012</td>\n",
       "      <td>54</td>\n",
       "      <td>18</td>\n",
       "      <td>0.1</td>\n",
       "      <td>79.7</td>\n",
       "      <td>4.3</td>\n",
       "      <td>15.2</td>\n",
       "      <td>1.7</td>\n",
       "      <td>5.1</td>\n",
       "      <td>0.7</td>\n",
       "    </tr>\n",
       "    <tr>\n",
       "      <th>243</th>\n",
       "      <td>30</td>\n",
       "      <td>9</td>\n",
       "      <td>2012</td>\n",
       "      <td>64</td>\n",
       "      <td>15</td>\n",
       "      <td>0.2</td>\n",
       "      <td>67.3</td>\n",
       "      <td>3.8</td>\n",
       "      <td>16.5</td>\n",
       "      <td>1.2</td>\n",
       "      <td>4.8</td>\n",
       "      <td>0.5</td>\n",
       "    </tr>\n",
       "  </tbody>\n",
       "</table>\n",
       "<p>243 rows × 12 columns</p>\n",
       "</div>"
      ],
      "text/plain": [
       "     day  month  year   RH   Ws  Rain   FFMC   DMC    DC  ISI   BUI  FWI\n",
       "0      1      6  2012   57   18    0.0  65.7   3.4   7.6  1.3   3.4  0.5\n",
       "1      2      6  2012   61   13    1.3  64.4   4.1   7.6  1.0   3.9  0.4\n",
       "2      3      6  2012   82   22   13.1  47.1   2.5   7.1  0.3   2.7  0.1\n",
       "3      4      6  2012   89   13    2.5  28.6   1.3   6.9  0.0   1.7  0.0\n",
       "4      5      6  2012   77   16    0.0  64.8   3.0  14.2  1.2   3.9  0.5\n",
       "..   ...    ...   ...  ...  ...    ...   ...   ...   ...  ...   ...  ...\n",
       "239   26      9  2012   65   14    0.0  85.4  16.0  44.5  4.5  16.9  6.5\n",
       "240   27      9  2012   87   15    4.4  41.1   6.5   8.0  0.1   6.2  0.0\n",
       "241   28      9  2012   87   29    0.5  45.9   3.5   7.9  0.4   3.4  0.2\n",
       "242   29      9  2012   54   18    0.1  79.7   4.3  15.2  1.7   5.1  0.7\n",
       "243   30      9  2012   64   15    0.2  67.3   3.8  16.5  1.2   4.8  0.5\n",
       "\n",
       "[243 rows x 12 columns]"
      ]
     },
     "execution_count": 13,
     "metadata": {},
     "output_type": "execute_result"
    }
   ],
   "source": [
    "# Taking independent Features\n",
    "X = df.iloc[:,:-1]\n",
    "X"
   ]
  },
  {
   "cell_type": "code",
   "execution_count": 14,
   "id": "ab4ae179",
   "metadata": {},
   "outputs": [
    {
     "data": {
      "text/plain": [
       "0      29\n",
       "1      29\n",
       "2      26\n",
       "3      25\n",
       "4      27\n",
       "       ..\n",
       "239    30\n",
       "240    28\n",
       "241    27\n",
       "242    24\n",
       "243    24\n",
       "Name: Temperature, Length: 243, dtype: int64"
      ]
     },
     "execution_count": 14,
     "metadata": {},
     "output_type": "execute_result"
    }
   ],
   "source": [
    "# Taking the dependent feature i.e Temperature\n",
    "y = df.iloc[:,-1]\n",
    "y"
   ]
  },
  {
   "cell_type": "code",
   "execution_count": 15,
   "id": "1f872003",
   "metadata": {},
   "outputs": [],
   "source": [
    "from sklearn.model_selection import train_test_split\n",
    "X_train, X_test, y_train, y_test = train_test_split(X, y, test_size=0.33, random_state=42)"
   ]
  },
  {
   "cell_type": "code",
   "execution_count": 16,
   "id": "7b5804fb",
   "metadata": {},
   "outputs": [
    {
     "data": {
      "text/html": [
       "<div>\n",
       "<style scoped>\n",
       "    .dataframe tbody tr th:only-of-type {\n",
       "        vertical-align: middle;\n",
       "    }\n",
       "\n",
       "    .dataframe tbody tr th {\n",
       "        vertical-align: top;\n",
       "    }\n",
       "\n",
       "    .dataframe thead th {\n",
       "        text-align: right;\n",
       "    }\n",
       "</style>\n",
       "<table border=\"1\" class=\"dataframe\">\n",
       "  <thead>\n",
       "    <tr style=\"text-align: right;\">\n",
       "      <th></th>\n",
       "      <th>day</th>\n",
       "      <th>month</th>\n",
       "      <th>year</th>\n",
       "      <th>RH</th>\n",
       "      <th>Ws</th>\n",
       "      <th>Rain</th>\n",
       "      <th>FFMC</th>\n",
       "      <th>DMC</th>\n",
       "      <th>DC</th>\n",
       "      <th>ISI</th>\n",
       "      <th>BUI</th>\n",
       "      <th>FWI</th>\n",
       "    </tr>\n",
       "  </thead>\n",
       "  <tbody>\n",
       "    <tr>\n",
       "      <th>227</th>\n",
       "      <td>14</td>\n",
       "      <td>9</td>\n",
       "      <td>2012</td>\n",
       "      <td>81</td>\n",
       "      <td>15</td>\n",
       "      <td>0.0</td>\n",
       "      <td>84.6</td>\n",
       "      <td>12.6</td>\n",
       "      <td>41.5</td>\n",
       "      <td>4.3</td>\n",
       "      <td>14.3</td>\n",
       "      <td>5.7</td>\n",
       "    </tr>\n",
       "    <tr>\n",
       "      <th>65</th>\n",
       "      <td>5</td>\n",
       "      <td>8</td>\n",
       "      <td>2012</td>\n",
       "      <td>65</td>\n",
       "      <td>13</td>\n",
       "      <td>0.0</td>\n",
       "      <td>86.8</td>\n",
       "      <td>11.1</td>\n",
       "      <td>29.7</td>\n",
       "      <td>5.2</td>\n",
       "      <td>11.5</td>\n",
       "      <td>6.1</td>\n",
       "    </tr>\n",
       "    <tr>\n",
       "      <th>169</th>\n",
       "      <td>18</td>\n",
       "      <td>7</td>\n",
       "      <td>2012</td>\n",
       "      <td>68</td>\n",
       "      <td>15</td>\n",
       "      <td>0.0</td>\n",
       "      <td>86.1</td>\n",
       "      <td>23.9</td>\n",
       "      <td>51.6</td>\n",
       "      <td>5.2</td>\n",
       "      <td>23.9</td>\n",
       "      <td>9.1</td>\n",
       "    </tr>\n",
       "    <tr>\n",
       "      <th>207</th>\n",
       "      <td>25</td>\n",
       "      <td>8</td>\n",
       "      <td>2012</td>\n",
       "      <td>40</td>\n",
       "      <td>18</td>\n",
       "      <td>0.0</td>\n",
       "      <td>92.1</td>\n",
       "      <td>56.3</td>\n",
       "      <td>157.5</td>\n",
       "      <td>14.3</td>\n",
       "      <td>59.5</td>\n",
       "      <td>31.1</td>\n",
       "    </tr>\n",
       "    <tr>\n",
       "      <th>144</th>\n",
       "      <td>23</td>\n",
       "      <td>6</td>\n",
       "      <td>2012</td>\n",
       "      <td>59</td>\n",
       "      <td>16</td>\n",
       "      <td>0.8</td>\n",
       "      <td>74.2</td>\n",
       "      <td>7.0</td>\n",
       "      <td>8.3</td>\n",
       "      <td>1.6</td>\n",
       "      <td>6.7</td>\n",
       "      <td>0.8</td>\n",
       "    </tr>\n",
       "    <tr>\n",
       "      <th>...</th>\n",
       "      <td>...</td>\n",
       "      <td>...</td>\n",
       "      <td>...</td>\n",
       "      <td>...</td>\n",
       "      <td>...</td>\n",
       "      <td>...</td>\n",
       "      <td>...</td>\n",
       "      <td>...</td>\n",
       "      <td>...</td>\n",
       "      <td>...</td>\n",
       "      <td>...</td>\n",
       "      <td>...</td>\n",
       "    </tr>\n",
       "    <tr>\n",
       "      <th>106</th>\n",
       "      <td>15</td>\n",
       "      <td>9</td>\n",
       "      <td>2012</td>\n",
       "      <td>82</td>\n",
       "      <td>15</td>\n",
       "      <td>0.4</td>\n",
       "      <td>44.9</td>\n",
       "      <td>0.9</td>\n",
       "      <td>7.3</td>\n",
       "      <td>0.2</td>\n",
       "      <td>1.4</td>\n",
       "      <td>0.0</td>\n",
       "    </tr>\n",
       "    <tr>\n",
       "      <th>14</th>\n",
       "      <td>15</td>\n",
       "      <td>6</td>\n",
       "      <td>2012</td>\n",
       "      <td>80</td>\n",
       "      <td>17</td>\n",
       "      <td>3.1</td>\n",
       "      <td>49.4</td>\n",
       "      <td>3.0</td>\n",
       "      <td>7.4</td>\n",
       "      <td>0.4</td>\n",
       "      <td>3.0</td>\n",
       "      <td>0.1</td>\n",
       "    </tr>\n",
       "    <tr>\n",
       "      <th>92</th>\n",
       "      <td>1</td>\n",
       "      <td>9</td>\n",
       "      <td>2012</td>\n",
       "      <td>76</td>\n",
       "      <td>17</td>\n",
       "      <td>7.2</td>\n",
       "      <td>46.0</td>\n",
       "      <td>1.3</td>\n",
       "      <td>7.5</td>\n",
       "      <td>0.2</td>\n",
       "      <td>1.8</td>\n",
       "      <td>0.1</td>\n",
       "    </tr>\n",
       "    <tr>\n",
       "      <th>180</th>\n",
       "      <td>29</td>\n",
       "      <td>7</td>\n",
       "      <td>2012</td>\n",
       "      <td>59</td>\n",
       "      <td>16</td>\n",
       "      <td>0.0</td>\n",
       "      <td>88.1</td>\n",
       "      <td>19.5</td>\n",
       "      <td>47.2</td>\n",
       "      <td>7.4</td>\n",
       "      <td>19.5</td>\n",
       "      <td>10.9</td>\n",
       "    </tr>\n",
       "    <tr>\n",
       "      <th>102</th>\n",
       "      <td>11</td>\n",
       "      <td>9</td>\n",
       "      <td>2012</td>\n",
       "      <td>77</td>\n",
       "      <td>21</td>\n",
       "      <td>1.8</td>\n",
       "      <td>58.5</td>\n",
       "      <td>1.9</td>\n",
       "      <td>8.4</td>\n",
       "      <td>1.1</td>\n",
       "      <td>2.4</td>\n",
       "      <td>0.3</td>\n",
       "    </tr>\n",
       "  </tbody>\n",
       "</table>\n",
       "<p>162 rows × 12 columns</p>\n",
       "</div>"
      ],
      "text/plain": [
       "     day  month  year   RH   Ws  Rain   FFMC   DMC     DC   ISI   BUI   FWI\n",
       "227   14      9  2012   81   15    0.0  84.6  12.6   41.5   4.3  14.3   5.7\n",
       "65     5      8  2012   65   13    0.0  86.8  11.1   29.7   5.2  11.5   6.1\n",
       "169   18      7  2012   68   15    0.0  86.1  23.9   51.6   5.2  23.9   9.1\n",
       "207   25      8  2012   40   18    0.0  92.1  56.3  157.5  14.3  59.5  31.1\n",
       "144   23      6  2012   59   16    0.8  74.2   7.0    8.3   1.6   6.7   0.8\n",
       "..   ...    ...   ...  ...  ...    ...   ...   ...    ...   ...   ...   ...\n",
       "106   15      9  2012   82   15    0.4  44.9   0.9    7.3   0.2   1.4   0.0\n",
       "14    15      6  2012   80   17    3.1  49.4   3.0    7.4   0.4   3.0   0.1\n",
       "92     1      9  2012   76   17    7.2  46.0   1.3    7.5   0.2   1.8   0.1\n",
       "180   29      7  2012   59   16    0.0  88.1  19.5   47.2   7.4  19.5  10.9\n",
       "102   11      9  2012   77   21    1.8  58.5   1.9    8.4   1.1   2.4   0.3\n",
       "\n",
       "[162 rows x 12 columns]"
      ]
     },
     "execution_count": 16,
     "metadata": {},
     "output_type": "execute_result"
    }
   ],
   "source": [
    "X_train"
   ]
  },
  {
   "cell_type": "code",
   "execution_count": 17,
   "id": "ec871402",
   "metadata": {},
   "outputs": [
    {
     "data": {
      "text/plain": [
       "227    28\n",
       "65     34\n",
       "169    33\n",
       "207    34\n",
       "144    33\n",
       "       ..\n",
       "106    24\n",
       "14     28\n",
       "92     25\n",
       "180    34\n",
       "102    30\n",
       "Name: Temperature, Length: 162, dtype: int64"
      ]
     },
     "execution_count": 17,
     "metadata": {},
     "output_type": "execute_result"
    }
   ],
   "source": [
    "y_train"
   ]
  },
  {
   "cell_type": "code",
   "execution_count": 18,
   "id": "f4192422",
   "metadata": {},
   "outputs": [
    {
     "data": {
      "text/html": [
       "<div>\n",
       "<style scoped>\n",
       "    .dataframe tbody tr th:only-of-type {\n",
       "        vertical-align: middle;\n",
       "    }\n",
       "\n",
       "    .dataframe tbody tr th {\n",
       "        vertical-align: top;\n",
       "    }\n",
       "\n",
       "    .dataframe thead th {\n",
       "        text-align: right;\n",
       "    }\n",
       "</style>\n",
       "<table border=\"1\" class=\"dataframe\">\n",
       "  <thead>\n",
       "    <tr style=\"text-align: right;\">\n",
       "      <th></th>\n",
       "      <th>day</th>\n",
       "      <th>month</th>\n",
       "      <th>year</th>\n",
       "      <th>RH</th>\n",
       "      <th>Ws</th>\n",
       "      <th>Rain</th>\n",
       "      <th>FFMC</th>\n",
       "      <th>DMC</th>\n",
       "      <th>DC</th>\n",
       "      <th>ISI</th>\n",
       "      <th>BUI</th>\n",
       "      <th>FWI</th>\n",
       "    </tr>\n",
       "  </thead>\n",
       "  <tbody>\n",
       "    <tr>\n",
       "      <th>24</th>\n",
       "      <td>25</td>\n",
       "      <td>6</td>\n",
       "      <td>2012</td>\n",
       "      <td>64</td>\n",
       "      <td>15</td>\n",
       "      <td>0.0</td>\n",
       "      <td>86.7</td>\n",
       "      <td>14.2</td>\n",
       "      <td>63.8</td>\n",
       "      <td>5.7</td>\n",
       "      <td>18.3</td>\n",
       "      <td>8.4</td>\n",
       "    </tr>\n",
       "    <tr>\n",
       "      <th>6</th>\n",
       "      <td>7</td>\n",
       "      <td>6</td>\n",
       "      <td>2012</td>\n",
       "      <td>54</td>\n",
       "      <td>13</td>\n",
       "      <td>0.0</td>\n",
       "      <td>88.2</td>\n",
       "      <td>9.9</td>\n",
       "      <td>30.5</td>\n",
       "      <td>6.4</td>\n",
       "      <td>10.9</td>\n",
       "      <td>7.2</td>\n",
       "    </tr>\n",
       "    <tr>\n",
       "      <th>152</th>\n",
       "      <td>1</td>\n",
       "      <td>7</td>\n",
       "      <td>2012</td>\n",
       "      <td>58</td>\n",
       "      <td>18</td>\n",
       "      <td>2.2</td>\n",
       "      <td>63.7</td>\n",
       "      <td>3.2</td>\n",
       "      <td>8.5</td>\n",
       "      <td>1.2</td>\n",
       "      <td>3.3</td>\n",
       "      <td>0.5</td>\n",
       "    </tr>\n",
       "    <tr>\n",
       "      <th>233</th>\n",
       "      <td>20</td>\n",
       "      <td>9</td>\n",
       "      <td>2012</td>\n",
       "      <td>58</td>\n",
       "      <td>13</td>\n",
       "      <td>0.2</td>\n",
       "      <td>79.5</td>\n",
       "      <td>18.7</td>\n",
       "      <td>88.0</td>\n",
       "      <td>2.1</td>\n",
       "      <td>24.4</td>\n",
       "      <td>3.8</td>\n",
       "    </tr>\n",
       "    <tr>\n",
       "      <th>239</th>\n",
       "      <td>26</td>\n",
       "      <td>9</td>\n",
       "      <td>2012</td>\n",
       "      <td>65</td>\n",
       "      <td>14</td>\n",
       "      <td>0.0</td>\n",
       "      <td>85.4</td>\n",
       "      <td>16.0</td>\n",
       "      <td>44.5</td>\n",
       "      <td>4.5</td>\n",
       "      <td>16.9</td>\n",
       "      <td>6.5</td>\n",
       "    </tr>\n",
       "    <tr>\n",
       "      <th>...</th>\n",
       "      <td>...</td>\n",
       "      <td>...</td>\n",
       "      <td>...</td>\n",
       "      <td>...</td>\n",
       "      <td>...</td>\n",
       "      <td>...</td>\n",
       "      <td>...</td>\n",
       "      <td>...</td>\n",
       "      <td>...</td>\n",
       "      <td>...</td>\n",
       "      <td>...</td>\n",
       "      <td>...</td>\n",
       "    </tr>\n",
       "    <tr>\n",
       "      <th>242</th>\n",
       "      <td>29</td>\n",
       "      <td>9</td>\n",
       "      <td>2012</td>\n",
       "      <td>54</td>\n",
       "      <td>18</td>\n",
       "      <td>0.1</td>\n",
       "      <td>79.7</td>\n",
       "      <td>4.3</td>\n",
       "      <td>15.2</td>\n",
       "      <td>1.7</td>\n",
       "      <td>5.1</td>\n",
       "      <td>0.7</td>\n",
       "    </tr>\n",
       "    <tr>\n",
       "      <th>5</th>\n",
       "      <td>6</td>\n",
       "      <td>6</td>\n",
       "      <td>2012</td>\n",
       "      <td>67</td>\n",
       "      <td>14</td>\n",
       "      <td>0.0</td>\n",
       "      <td>82.6</td>\n",
       "      <td>5.8</td>\n",
       "      <td>22.2</td>\n",
       "      <td>3.1</td>\n",
       "      <td>7.0</td>\n",
       "      <td>2.5</td>\n",
       "    </tr>\n",
       "    <tr>\n",
       "      <th>56</th>\n",
       "      <td>27</td>\n",
       "      <td>7</td>\n",
       "      <td>2012</td>\n",
       "      <td>48</td>\n",
       "      <td>13</td>\n",
       "      <td>0.0</td>\n",
       "      <td>90.3</td>\n",
       "      <td>22.2</td>\n",
       "      <td>108.5</td>\n",
       "      <td>8.7</td>\n",
       "      <td>29.4</td>\n",
       "      <td>15.3</td>\n",
       "    </tr>\n",
       "    <tr>\n",
       "      <th>124</th>\n",
       "      <td>3</td>\n",
       "      <td>6</td>\n",
       "      <td>2012</td>\n",
       "      <td>80</td>\n",
       "      <td>14</td>\n",
       "      <td>2.0</td>\n",
       "      <td>48.7</td>\n",
       "      <td>2.2</td>\n",
       "      <td>7.6</td>\n",
       "      <td>0.3</td>\n",
       "      <td>2.6</td>\n",
       "      <td>0.1</td>\n",
       "    </tr>\n",
       "    <tr>\n",
       "      <th>147</th>\n",
       "      <td>26</td>\n",
       "      <td>6</td>\n",
       "      <td>2012</td>\n",
       "      <td>62</td>\n",
       "      <td>16</td>\n",
       "      <td>0.0</td>\n",
       "      <td>87.8</td>\n",
       "      <td>16.5</td>\n",
       "      <td>34.5</td>\n",
       "      <td>7.0</td>\n",
       "      <td>16.4</td>\n",
       "      <td>9.5</td>\n",
       "    </tr>\n",
       "  </tbody>\n",
       "</table>\n",
       "<p>81 rows × 12 columns</p>\n",
       "</div>"
      ],
      "text/plain": [
       "     day  month  year   RH   Ws  Rain   FFMC   DMC     DC  ISI   BUI   FWI\n",
       "24    25      6  2012   64   15    0.0  86.7  14.2   63.8  5.7  18.3   8.4\n",
       "6      7      6  2012   54   13    0.0  88.2   9.9   30.5  6.4  10.9   7.2\n",
       "152    1      7  2012   58   18    2.2  63.7   3.2    8.5  1.2   3.3   0.5\n",
       "233   20      9  2012   58   13    0.2  79.5  18.7   88.0  2.1  24.4   3.8\n",
       "239   26      9  2012   65   14    0.0  85.4  16.0   44.5  4.5  16.9   6.5\n",
       "..   ...    ...   ...  ...  ...    ...   ...   ...    ...  ...   ...   ...\n",
       "242   29      9  2012   54   18    0.1  79.7   4.3   15.2  1.7   5.1   0.7\n",
       "5      6      6  2012   67   14    0.0  82.6   5.8   22.2  3.1   7.0   2.5\n",
       "56    27      7  2012   48   13    0.0  90.3  22.2  108.5  8.7  29.4  15.3\n",
       "124    3      6  2012   80   14    2.0  48.7   2.2    7.6  0.3   2.6   0.1\n",
       "147   26      6  2012   62   16    0.0  87.8  16.5   34.5  7.0  16.4   9.5\n",
       "\n",
       "[81 rows x 12 columns]"
      ]
     },
     "execution_count": 18,
     "metadata": {},
     "output_type": "execute_result"
    }
   ],
   "source": [
    "X_test"
   ]
  },
  {
   "cell_type": "code",
   "execution_count": 19,
   "id": "8a1edc72",
   "metadata": {},
   "outputs": [
    {
     "data": {
      "text/plain": [
       "24     31\n",
       "6      33\n",
       "152    28\n",
       "233    34\n",
       "239    30\n",
       "       ..\n",
       "242    24\n",
       "5      31\n",
       "56     36\n",
       "124    29\n",
       "147    36\n",
       "Name: Temperature, Length: 81, dtype: int64"
      ]
     },
     "execution_count": 19,
     "metadata": {},
     "output_type": "execute_result"
    }
   ],
   "source": [
    "y_test"
   ]
  },
  {
   "cell_type": "code",
   "execution_count": 20,
   "id": "8910d7db",
   "metadata": {},
   "outputs": [
    {
     "data": {
      "text/plain": [
       "(162, 12)"
      ]
     },
     "execution_count": 20,
     "metadata": {},
     "output_type": "execute_result"
    }
   ],
   "source": [
    "X_train.shape"
   ]
  },
  {
   "cell_type": "code",
   "execution_count": 21,
   "id": "97435e2c",
   "metadata": {},
   "outputs": [
    {
     "data": {
      "text/plain": [
       "(162,)"
      ]
     },
     "execution_count": 21,
     "metadata": {},
     "output_type": "execute_result"
    }
   ],
   "source": [
    "y_train.shape"
   ]
  },
  {
   "cell_type": "code",
   "execution_count": 22,
   "id": "c4b1dd0d",
   "metadata": {},
   "outputs": [
    {
     "data": {
      "text/plain": [
       "(81, 12)"
      ]
     },
     "execution_count": 22,
     "metadata": {},
     "output_type": "execute_result"
    }
   ],
   "source": [
    "X_test.shape"
   ]
  },
  {
   "cell_type": "code",
   "execution_count": 23,
   "id": "b0e1365c",
   "metadata": {},
   "outputs": [
    {
     "data": {
      "text/plain": [
       "(81,)"
      ]
     },
     "execution_count": 23,
     "metadata": {},
     "output_type": "execute_result"
    }
   ],
   "source": [
    "y_test.shape"
   ]
  },
  {
   "cell_type": "markdown",
   "id": "acf9f73c",
   "metadata": {},
   "source": [
    "# Standardization "
   ]
  },
  {
   "cell_type": "code",
   "execution_count": 24,
   "id": "bce96b1e",
   "metadata": {},
   "outputs": [],
   "source": [
    "# Standardize the dataset\n",
    "from sklearn.preprocessing import StandardScaler\n",
    "scaler = StandardScaler()"
   ]
  },
  {
   "cell_type": "code",
   "execution_count": 25,
   "id": "5d7650a9",
   "metadata": {},
   "outputs": [
    {
     "data": {
      "text/plain": [
       "StandardScaler()"
      ]
     },
     "execution_count": 25,
     "metadata": {},
     "output_type": "execute_result"
    }
   ],
   "source": [
    "scaler"
   ]
  },
  {
   "cell_type": "code",
   "execution_count": 26,
   "id": "f0b30e17",
   "metadata": {},
   "outputs": [],
   "source": [
    "X_train = scaler.fit_transform(X_train)"
   ]
  },
  {
   "cell_type": "code",
   "execution_count": 27,
   "id": "244954e2",
   "metadata": {},
   "outputs": [],
   "source": [
    "X_test = scaler.transform(X_test)"
   ]
  },
  {
   "cell_type": "markdown",
   "id": "d572b7ff",
   "metadata": {},
   "source": [
    "# Model Training"
   ]
  },
  {
   "cell_type": "code",
   "execution_count": 28,
   "id": "0f1b6d95",
   "metadata": {},
   "outputs": [
    {
     "data": {
      "text/plain": [
       "LinearRegression()"
      ]
     },
     "execution_count": 28,
     "metadata": {},
     "output_type": "execute_result"
    }
   ],
   "source": [
    "## Model Training \n",
    "from sklearn.linear_model import LinearRegression\n",
    "regression = LinearRegression()\n",
    "regression"
   ]
  },
  {
   "cell_type": "code",
   "execution_count": 29,
   "id": "21f67d56",
   "metadata": {},
   "outputs": [
    {
     "data": {
      "text/plain": [
       "LinearRegression()"
      ]
     },
     "execution_count": 29,
     "metadata": {},
     "output_type": "execute_result"
    }
   ],
   "source": [
    "regression.fit(X_train,y_train)"
   ]
  },
  {
   "cell_type": "code",
   "execution_count": 30,
   "id": "334e2f77",
   "metadata": {},
   "outputs": [
    {
     "name": "stdout",
     "output_type": "stream",
     "text": [
      "[-4.87892562e-01 -1.69179719e-01 -7.77156117e-16 -1.14316544e+00\n",
      " -7.06359723e-01  3.72092505e-01  1.52711045e+00  3.24913777e+00\n",
      "  2.50834889e+00  2.77765500e-01 -4.66186953e+00 -3.51345548e-01]\n"
     ]
    }
   ],
   "source": [
    "## print the coefficients and the intercept\n",
    "print(regression.coef_)"
   ]
  },
  {
   "cell_type": "code",
   "execution_count": 31,
   "id": "5fe525e2",
   "metadata": {},
   "outputs": [
    {
     "name": "stdout",
     "output_type": "stream",
     "text": [
      "32.098765432098766\n"
     ]
    }
   ],
   "source": [
    "print(regression.intercept_)"
   ]
  },
  {
   "cell_type": "code",
   "execution_count": 32,
   "id": "770b5f6b",
   "metadata": {},
   "outputs": [
    {
     "data": {
      "text/plain": [
       "array([32.81327423, 34.9263965 , 30.73114993, 33.3005433 , 32.26563482,\n",
       "       32.23836465, 31.47593624, 35.02846936, 31.61859089, 31.34835374,\n",
       "       28.52991915, 39.35465385, 34.58541228, 34.45313633, 34.04877059,\n",
       "       32.95614866, 33.21461168, 25.65996103, 32.7212673 , 34.93519006,\n",
       "       30.85274429, 28.37529759, 33.59601163, 29.03889428, 36.43293779,\n",
       "       34.21293536, 33.43570415, 33.58250503, 26.69158696, 33.49239728,\n",
       "       29.80311421, 32.38722622, 32.2018779 , 33.00137247, 32.17656661,\n",
       "       32.87943714, 31.23358621, 34.68358703, 26.5065588 , 21.51999708,\n",
       "       34.48230579, 33.04995827, 34.43511591, 24.9589704 , 36.4050724 ,\n",
       "       32.7333408 , 30.8297352 , 30.64583177, 33.25125687, 28.71592584,\n",
       "       37.06520973, 35.44423281, 33.6157875 , 34.54706109, 33.34179962,\n",
       "       32.31905467, 32.39693049, 32.74546375, 31.98208875, 36.50126392,\n",
       "       33.36161493, 30.22490426, 29.10571794, 36.63325387, 31.73481349,\n",
       "       32.00171685, 33.25297213, 34.52572511, 35.40549008, 24.63940899,\n",
       "       34.88809932, 35.90738348, 33.14475344, 34.50646411, 25.83374962,\n",
       "       32.49214478, 30.62929371, 32.88571215, 35.37555027, 28.39362922,\n",
       "       32.48208615])"
      ]
     },
     "execution_count": 32,
     "metadata": {},
     "output_type": "execute_result"
    }
   ],
   "source": [
    "reg_pred = regression.predict(X_test)\n",
    "reg_pred"
   ]
  },
  {
   "cell_type": "code",
   "execution_count": 33,
   "id": "55a21f35",
   "metadata": {},
   "outputs": [
    {
     "data": {
      "text/plain": [
       "<matplotlib.collections.PathCollection at 0x11467bd6ca0>"
      ]
     },
     "execution_count": 33,
     "metadata": {},
     "output_type": "execute_result"
    },
    {
     "data": {
      "image/png": "[encoded data removed]",
      "text/plain": [
       "<Figure size 432x288 with 1 Axes>"
      ]
     },
     "metadata": {
      "needs_background": "light"
     },
     "output_type": "display_data"
    }
   ],
   "source": [
    "## asssunmptions of linear regressions\n",
    "plt.scatter(y_test,reg_pred)"
   ]
  },
  {
   "cell_type": "code",
   "execution_count": 34,
   "id": "f85a701b",
   "metadata": {},
   "outputs": [
    {
     "data": {
      "text/plain": [
       "<AxesSubplot:xlabel='Temperature'>"
      ]
     },
     "execution_count": 34,
     "metadata": {},
     "output_type": "execute_result"
    },
    {
     "data": {
      "image/png": "[encoded data removed]",
      "text/plain": [
       "<Figure size 432x288 with 1 Axes>"
      ]
     },
     "metadata": {
      "needs_background": "light"
     },
     "output_type": "display_data"
    }
   ],
   "source": [
    "sns.regplot(x=y_test,y=reg_pred)\n"
   ]
  },
  {
   "cell_type": "code",
   "execution_count": 35,
   "id": "04d04020",
   "metadata": {},
   "outputs": [
    {
     "data": {
      "text/plain": [
       "24    -1.813274\n",
       "6     -1.926396\n",
       "152   -2.731150\n",
       "233    0.699457\n",
       "239   -2.265635\n",
       "         ...   \n",
       "242   -6.629294\n",
       "5     -1.885712\n",
       "56     0.624450\n",
       "124    0.606371\n",
       "147    3.517914\n",
       "Name: Temperature, Length: 81, dtype: float64"
      ]
     },
     "execution_count": 35,
     "metadata": {},
     "output_type": "execute_result"
    }
   ],
   "source": [
    "residuals = y_test-reg_pred\n",
    "residuals"
   ]
  },
  {
   "cell_type": "code",
   "execution_count": 36,
   "id": "9c8fcf92",
   "metadata": {},
   "outputs": [
    {
     "data": {
      "text/plain": [
       "<seaborn.axisgrid.FacetGrid at 0x11467bf7250>"
      ]
     },
     "execution_count": 36,
     "metadata": {},
     "output_type": "execute_result"
    },
    {
     "data": {
      "image/png": "[encoded data removed]",
      "text/plain": [
       "<Figure size 360x360 with 1 Axes>"
      ]
     },
     "metadata": {
      "needs_background": "light"
     },
     "output_type": "display_data"
    }
   ],
   "source": [
    "sns.displot(residuals,kind='kde')"
   ]
  },
  {
   "cell_type": "code",
   "execution_count": 37,
   "id": "8ea0b204",
   "metadata": {},
   "outputs": [
    {
     "name": "stderr",
     "output_type": "stream",
     "text": [
      "C:\\Users\\dell\\anaconda3\\lib\\site-packages\\seaborn\\_decorators.py:36: FutureWarning: Pass the following variables as keyword args: x, y. From version 0.12, the only valid positional argument will be `data`, and passing other arguments without an explicit keyword will result in an error or misinterpretation.\n",
      "  warnings.warn(\n"
     ]
    },
    {
     "data": {
      "text/plain": [
       "<AxesSubplot:ylabel='Temperature'>"
      ]
     },
     "execution_count": 37,
     "metadata": {},
     "output_type": "execute_result"
    },
    {
     "data": {
      "image/png": "[encoded data removed]",
      "text/plain": [
       "<Figure size 432x288 with 1 Axes>"
      ]
     },
     "metadata": {
      "needs_background": "light"
     },
     "output_type": "display_data"
    }
   ],
   "source": [
    "# scatter plot with prediction and residuals\n",
    "# Uniform distribution\n",
    "sns.scatterplot(reg_pred,residuals)"
   ]
  },
  {
   "cell_type": "code",
   "execution_count": 38,
   "id": "bcfe1e09",
   "metadata": {},
   "outputs": [],
   "source": [
    "## performance metrices\n",
    "from sklearn.metrics import mean_squared_error\n",
    "from sklearn.metrics import mean_absolute_error"
   ]
  },
  {
   "cell_type": "code",
   "execution_count": 39,
   "id": "12413a2f",
   "metadata": {},
   "outputs": [
    {
     "name": "stdout",
     "output_type": "stream",
     "text": [
      "6.478947265661607\n",
      "1.993509404151708\n",
      "2.5453776273200814\n"
     ]
    }
   ],
   "source": [
    "print(mean_squared_error(y_test,reg_pred))\n",
    "print(mean_absolute_error(y_test,reg_pred))\n",
    "print(np.sqrt(mean_squared_error(y_test,reg_pred)))"
   ]
  },
  {
   "cell_type": "markdown",
   "id": "711b57d5",
   "metadata": {},
   "source": [
    "## R square and adjusted R square"
   ]
  },
  {
   "cell_type": "code",
   "execution_count": 40,
   "id": "feda384e",
   "metadata": {},
   "outputs": [
    {
     "name": "stdout",
     "output_type": "stream",
     "text": [
      "0.49517394648703383\n"
     ]
    }
   ],
   "source": [
    "from sklearn.metrics import r2_score\n",
    "score=r2_score(y_test,reg_pred)\n",
    "print(score)"
   ]
  },
  {
   "cell_type": "code",
   "execution_count": 41,
   "id": "3f95387e",
   "metadata": {},
   "outputs": [
    {
     "data": {
      "text/plain": [
       "0.4060869958670986"
      ]
     },
     "execution_count": 41,
     "metadata": {},
     "output_type": "execute_result"
    }
   ],
   "source": [
    "## Adjusted R square\n",
    "#display adjusted R-squared\n",
    "1 - (1-score)*(len(y_test)-1)/(len(y_test)-X_test.shape[1]-1)"
   ]
  },
  {
   "cell_type": "markdown",
   "id": "b6c22ce8",
   "metadata": {},
   "source": [
    "# Ridge Regression"
   ]
  },
  {
   "cell_type": "code",
   "execution_count": 62,
   "id": "ebca4daf",
   "metadata": {},
   "outputs": [
    {
     "name": "stdout",
     "output_type": "stream",
     "text": [
      "Redge predicted values [32.86791948 34.83209932 30.67945796 33.41823016 32.19458613 32.40554963\n",
      " 31.43334978 34.98926273 31.62976409 31.42827128 28.54173328 34.80902028\n",
      " 34.58423397 34.34615293 34.27094058 33.00607122 33.1932775  25.78718535\n",
      " 32.64897822 34.84081045 30.82637979 28.2537816  33.62801309 29.05510793\n",
      " 36.5962297  34.46463619 33.42499522 33.68355242 26.65442993 33.32940245\n",
      " 29.8582918  32.33843069 32.16724754 33.18291048 32.1492051  32.80013139\n",
      " 31.16900546 34.67943242 26.5684052  21.62298282 34.42202389 33.00805887\n",
      " 34.48348526 25.03699272 36.139642   32.67810528 30.79274378 30.76199892\n",
      " 33.02509782 28.742479   36.69523616 35.33545361 33.77708469 34.82898973\n",
      " 33.31454911 32.62855425 32.41183758 32.58470371 31.95146186 36.47599609\n",
      " 33.25690883 30.0224399  29.10095616 36.66827758 31.78829516 32.1360597\n",
      " 33.3005332  34.40485212 35.27032513 24.7126556  34.92693928 35.98068068\n",
      " 33.19661041 34.61726237 25.93832691 32.58056905 30.68652789 32.83136893\n",
      " 35.48158741 28.42976898 32.41639157]\n",
      "MSE 6.126354057087781\n",
      "MAE 1.9303999343722449\n",
      "RMSE 2.4751472798780645\n",
      "R^2 0.49517394648703383\n",
      "Adjusted R^2 0.4384085572495797\n"
     ]
    }
   ],
   "source": [
    "## Ridge\n",
    "from sklearn.linear_model import Ridge\n",
    "ridge=Ridge()\n",
    "\n",
    "ridge.fit(X_train,y_train)\n",
    "\n",
    "redge_pred = ridge.predict(X_test)\n",
    "print('Redge predicted values',redge_pred)\n",
    "\n",
    "print('MSE',mean_squared_error(y_test,redge_pred))\n",
    "print('MAE',mean_absolute_error(y_test,redge_pred))\n",
    "print('RMSE',np.sqrt(mean_squared_error(y_test,redge_pred)))\n",
    "\n",
    "# performance metrics\n",
    "# R^2 \n",
    "redge_score=r2_score(y_test,redge_pred)\n",
    "print('R^2',score)\n",
    "\n",
    "# adjusted R^2\n",
    "\n",
    "print(\"Adjusted R^2\",1 - (1-redge_score)*(len(y_test)-1)/(len(y_test)-X_test.shape[1]-1))"
   ]
  },
  {
   "cell_type": "code",
   "execution_count": null,
   "id": "16ac3069",
   "metadata": {},
   "outputs": [],
   "source": []
  },
  {
   "cell_type": "code",
   "execution_count": 63,
   "id": "60175b41",
   "metadata": {},
   "outputs": [
    {
     "name": "stdout",
     "output_type": "stream",
     "text": [
      "Lasso predicted values [32.86791948 34.83209932 30.67945796 33.41823016 32.19458613 32.40554963\n",
      " 31.43334978 34.98926273 31.62976409 31.42827128 28.54173328 34.80902028\n",
      " 34.58423397 34.34615293 34.27094058 33.00607122 33.1932775  25.78718535\n",
      " 32.64897822 34.84081045 30.82637979 28.2537816  33.62801309 29.05510793\n",
      " 36.5962297  34.46463619 33.42499522 33.68355242 26.65442993 33.32940245\n",
      " 29.8582918  32.33843069 32.16724754 33.18291048 32.1492051  32.80013139\n",
      " 31.16900546 34.67943242 26.5684052  21.62298282 34.42202389 33.00805887\n",
      " 34.48348526 25.03699272 36.139642   32.67810528 30.79274378 30.76199892\n",
      " 33.02509782 28.742479   36.69523616 35.33545361 33.77708469 34.82898973\n",
      " 33.31454911 32.62855425 32.41183758 32.58470371 31.95146186 36.47599609\n",
      " 33.25690883 30.0224399  29.10095616 36.66827758 31.78829516 32.1360597\n",
      " 33.3005332  34.40485212 35.27032513 24.7126556  34.92693928 35.98068068\n",
      " 33.19661041 34.61726237 25.93832691 32.58056905 30.68652789 32.83136893\n",
      " 35.48158741 28.42976898 32.41639157]\n",
      "MSE 6.126354057087781\n",
      "MAE 1.9303999343722449\n",
      "RMSE 2.4751472798780645\n",
      "R^2 0.49517394648703383\n",
      "Adjusted R^2 0.4384085572495797\n"
     ]
    }
   ],
   "source": [
    "## Ridge\n",
    "from sklearn.linear_model import Lasso\n",
    "lasso = Lasso()\n",
    "\n",
    "lasso.fit(X_train,y_train)\n",
    "\n",
    "lasso_pred = ridge.predict(X_test)\n",
    "print('Lasso predicted values',lasso_pred)\n",
    "\n",
    "print('MSE',mean_squared_error(y_test,lasso_pred))\n",
    "print('MAE',mean_absolute_error(y_test,lasso_pred))\n",
    "print('RMSE',np.sqrt(mean_squared_error(y_test,lasso_pred)))\n",
    "\n",
    "# performance metrics\n",
    "# R^2 \n",
    "lasso_score=r2_score(y_test,lasso_pred)\n",
    "print('R^2',score)\n",
    "\n",
    "# adjusted R^2\n",
    "\n",
    "print('Adjusted R^2',1 - (1-lasso_score)*(len(y_test)-1)/(len(y_test)-X_test.shape[1]-1))"
   ]
  },
  {
   "cell_type": "code",
   "execution_count": 64,
   "id": "d836249c",
   "metadata": {},
   "outputs": [
    {
     "name": "stdout",
     "output_type": "stream",
     "text": [
      "ElasticNet predicted values [32.86791948 34.83209932 30.67945796 33.41823016 32.19458613 32.40554963\n",
      " 31.43334978 34.98926273 31.62976409 31.42827128 28.54173328 34.80902028\n",
      " 34.58423397 34.34615293 34.27094058 33.00607122 33.1932775  25.78718535\n",
      " 32.64897822 34.84081045 30.82637979 28.2537816  33.62801309 29.05510793\n",
      " 36.5962297  34.46463619 33.42499522 33.68355242 26.65442993 33.32940245\n",
      " 29.8582918  32.33843069 32.16724754 33.18291048 32.1492051  32.80013139\n",
      " 31.16900546 34.67943242 26.5684052  21.62298282 34.42202389 33.00805887\n",
      " 34.48348526 25.03699272 36.139642   32.67810528 30.79274378 30.76199892\n",
      " 33.02509782 28.742479   36.69523616 35.33545361 33.77708469 34.82898973\n",
      " 33.31454911 32.62855425 32.41183758 32.58470371 31.95146186 36.47599609\n",
      " 33.25690883 30.0224399  29.10095616 36.66827758 31.78829516 32.1360597\n",
      " 33.3005332  34.40485212 35.27032513 24.7126556  34.92693928 35.98068068\n",
      " 33.19661041 34.61726237 25.93832691 32.58056905 30.68652789 32.83136893\n",
      " 35.48158741 28.42976898 32.41639157]\n",
      "MSE 6.126354057087781\n",
      "MAE 1.9303999343722449\n",
      "RMSE 2.4751472798780645\n",
      "R^2 0.49517394648703383\n",
      "Adjusted R^2 0.4384085572495797\n"
     ]
    }
   ],
   "source": [
    "# ElasticNet\n",
    "from sklearn.linear_model import ElasticNet\n",
    "ElasticNet = ElasticNet()\n",
    "\n",
    "ElasticNet.fit(X_train,y_train)\n",
    "\n",
    "ElasticNet_pred = ridge.predict(X_test)\n",
    "print('ElasticNet predicted values',ElasticNet_pred)\n",
    "\n",
    "print('MSE',mean_squared_error(y_test,ElasticNet_pred))\n",
    "print('MAE',mean_absolute_error(y_test,ElasticNet_pred))\n",
    "print('RMSE',np.sqrt(mean_squared_error(y_test,ElasticNet_pred)))\n",
    "\n",
    "# performance metrics\n",
    "# R^2 \n",
    "ElasticNet_score=r2_score(y_test,ElasticNet_pred)\n",
    "print('R^2',score)\n",
    "\n",
    "# adjusted R^2\n",
    "\n",
    "print('Adjusted R^2',1 - (1-ElasticNet_score)*(len(y_test)-1)/(len(y_test)-X_test.shape[1]-1))"
   ]
  },
  {
   "cell_type": "code",
   "execution_count": null,
   "id": "0bcae9bb",
   "metadata": {},
   "outputs": [],
   "source": []
  }
 ],
 "metadata": {
  "kernelspec": {
   "display_name": "Python 3 (ipykernel)",
   "language": "python",
   "name": "python3"
  },
  "language_info": {
   "codemirror_mode": {
    "name": "ipython",
    "version": 3
   },
   "file_extension": ".py",
   "mimetype": "text/x-python",
   "name": "python",
   "nbconvert_exporter": "python",
   "pygments_lexer": "ipython3",
   "version": "3.9.12"
  }
 },
 "nbformat": 4,
 "nbformat_minor": 5
}
